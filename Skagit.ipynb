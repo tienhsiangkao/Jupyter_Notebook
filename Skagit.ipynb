%matplotlib inline

width = 16
height = 10
import matplotlib
matplotlib.rcParams['figure.figsize'] = [width, height]

import matplotlib.pyplot as plt
import pandas as pd
import requests
def tide(station, begin, end, product, datum = 'MLLW', units = 'metric', time_format='lst_ldt', output='csv', web_service='Web Services'):
    station_id = station
    product = product
    begin_date = begin
    end_date = end
    request = requests.get('https://tidesandcurrents.noaa.gov/api/datagetter?begin_date='+begin_date+' 00:00&end_date='+end_date+' 23:59&station='+station_id+'&product='+product+'&datum=+'+datum+'+&units=+'+units+'+&time_zone='+time_format+'&application='+web_service+'&format='+output)
    f = request.text
    time = []
    v = []
    for str in f.split('\n')[1:-1]:
        time.append(pd.to_datetime(str.split(',')[0]))
        v.append(float(str.split(',')[-1]))
    df = pd.DataFrame({'x': v}, index=time)
    return df

df = tide(station='9446484',begin='20190809',end='20190811',product = 'predictions')
fig = plt.figure()
ax=fig.add_subplot(111)
df.plot(linewidth=4, label='Water level', ax = ax, grid=True, legend=True)
